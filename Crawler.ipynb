{
 "cells": [
  {
   "cell_type": "code",
   "execution_count": 41,
   "id": "43993a62",
   "metadata": {},
   "outputs": [],
   "source": [
    "import requests\n",
    "from lxml import html\n",
    "from bs4 import BeautifulSoup\n",
    "from selenium import webdriver\n",
    "from selenium.webdriver.chrome.options import Options\n",
    "import time\n",
    "import queue\n",
    "import re\n",
    "\n",
    "frontier = queue.Queue()\n",
    "WEB_DRIVER_LOCATION = \"C:/Users/Pirk/Desktop/faks-mag/ekstrakcija/chromedriver.exe\"\n",
    "TIMEOUT = 5\n",
    "url =  \"https://en.wikipedia.org/wiki/Main_Page\"\n",
    "\n",
    "def is_link(link):\n",
    "    if (link.match(\".:\\/\\/.\")):\n",
    "        return true\n",
    "    #logika - preveri če je stvar valid link ki ga damo v frontier\n",
    "    \n",
    "def make_absolute(baselink,link):\n",
    "    return 0\n",
    "    #logika - prepozna če je link relativen inga spremeni v absolutnega\n",
    "\n",
    "def crawl_site(url):\n",
    "\n",
    "    WEB_PAGE_ADDRESS = url\n",
    "\n",
    "    chrome_options = Options()\n",
    "    chrome_options.add_argument(\"user-agent=fri-ieps-TEST\")\n",
    "    time.sleep(TIMEOUT)\n",
    "\n",
    "    driver = webdriver.Chrome(WEB_DRIVER_LOCATION, options=chrome_options)\n",
    "    driver.get(WEB_PAGE_ADDRESS)\n",
    "    time.sleep(TIMEOUT)\n",
    "\n",
    "    html = driver.page_source\n",
    "\n",
    "    bsObj = BeautifulSoup(html, 'html.parser')\n",
    "    links = bsObj.find_all('a', href=True)\n",
    "    #finalLinks = set()\n",
    "    for link in links:\n",
    "        #finalLinks.add(link.attrs['href'])\n",
    "        #klic metode, ki filtrira linke\n",
    "        #klic metode, ki dopolni relativne linke v absolutne\n",
    "        if is_link:\n",
    "            frontier.put(link.attrs['href'])\n",
    "            \n",
    "    print(list(frontier.queue))\n",
    "    print(\"done\")\n",
    "\n",
    "\n",
    "    "
   ]
  },
  {
   "cell_type": "code",
   "execution_count": 31,
   "id": "3846fad3",
   "metadata": {},
   "outputs": [
    {
     "name": "stdout",
     "output_type": "stream",
     "text": [
      "{'https://e-uprava.gov.si/', 'http://www.izvoznookno.si', 'https://europa.eu/youreurope/index.htm#sl', 'http://www.gov.si', 'https://spot.gov.si/sl/kazalo/', 'http://www.gov.si/', 'https://evem.gov.si/evem/cert/uporabnik/prijava.evem', 'https://www.stopbirokraciji.gov.si/', 'https://spot.gov.si/sl/pomoc-in-podpora/tehnicna-podpora/', 'https://spot.gov.si/sl/e-postopki-in-storitve/pogoji-za-uporabo-e-postopkov-in-prijava-v-portal-spot/', 'https://spot.gov.si/sl/pomoc-in-podpora/', 'https://spot.gov.si/sl/', 'https://spot.gov.si/sl/portal-in-tocke-spot/', 'mailto:ekc@gov.si', 'https://spot.gov.si/sl/poslovanje/', 'https://www.spiritslovenia.si/', 'https://spot.gov.si/sl/e-postopki-in-storitve/pogoji-za-uporabo-e-postopkov-in-prijava-v-portal-spot/digitalna-potrdila/', 'https://spot.gov.si/sl/teme/pogoji-uporabe/', 'https://spot.gov.si/sl/dejavnosti-in-poklici/', 'https://spot.gov.si/sl/e-postopki-in-storitve/pooblascanje-oseb-za-opravljanje-postopkov-prek-portala-spot/', 'http://eugo.gov.si', 'http://www.eugo.gov.si', 'https://spot.gov.si/sl/portal-in-tocke-spot/tocke-spot-in-notarji/seznam-tock-spot-svetovanje/', 'http://www.podjetniski-portal.si', 'https://spot.gov.si/sl/e-postopki-in-storitve/pogoji-za-uporabo-e-postopkov-in-prijava-v-portal-spot/prijava-v-portal-spot/', 'https://evem.gov.si/evem/sicas/uporabnik/prijava.evem', 'https://spot.gov.si/sl/pomoc-in-podpora/vsebinska-podpora/', '#', 'http://www.podjetniskisklad.si', 'tel:0802002', 'https://www.youtube.com/watch?v=jdoIGSGRSRI', 'https://spot.gov.si/sl/e-postopki-in-storitve/', 'https://spot.gov.si/sl/e-postopki-in-storitve/tiskani-obrazci/', 'cms/news/detailEugo.evem?srcsi_cms_news_id=8822', 'https://spot.gov.si/sl/politika-zasebnosti/', 'http://www.eu-skladi.si/'}\n"
     ]
    }
   ],
   "source": []
  },
  {
   "cell_type": "code",
   "execution_count": null,
   "id": "a0962cff",
   "metadata": {},
   "outputs": [],
   "source": []
  }
 ],
 "metadata": {
  "kernelspec": {
   "display_name": "Python 3 (ipykernel)",
   "language": "python",
   "name": "python3"
  },
  "language_info": {
   "codemirror_mode": {
    "name": "ipython",
    "version": 3
   },
   "file_extension": ".py",
   "mimetype": "text/x-python",
   "name": "python",
   "nbconvert_exporter": "python",
   "pygments_lexer": "ipython3",
   "version": "3.8.8"
  }
 },
 "nbformat": 4,
 "nbformat_minor": 5
}

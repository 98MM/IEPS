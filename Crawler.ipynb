{
 "cells": [
  {
   "cell_type": "code",
   "execution_count": 36,
   "id": "43993a62",
   "metadata": {},
   "outputs": [
    {
     "name": "stdout",
     "output_type": "stream",
     "text": [
      "['#mw-head', '#searchInput', '/wiki/Wikipedia', '/wiki/Free_content', '/wiki/Encyclopedia', '/wiki/Help:Introduction_to_Wikipedia', '/wiki/Special:Statistics', '/wiki/English_language', '/wiki/Portal:The_arts', '/wiki/Portal:Biography', '/wiki/Portal:Geography', '/wiki/Portal:History', '/wiki/Portal:Mathematics', '/wiki/Portal:Science', '/wiki/Portal:Society', '/wiki/Portal:Technology', '/wiki/Wikipedia:Contents/Portals', '/wiki/File:Trial_of_Talat_Pasha.jpg', '/wiki/Assassination_of_Talaat_Pasha', '/wiki/Ottoman_Empire', '/wiki/Armenian_genocide', '/wiki/Soghomon_Tehlirian', '/wiki/Operation_Nemesis', '/wiki/Talaat_Pasha', '/wiki/Raphael_Lemkin', '/wiki/Genocide', '/wiki/International_law', '/wiki/Assassination_of_Talaat_Pasha', '/wiki/Group_(mathematics)', '/wiki/Farran_Zerbe', '/wiki/Fakhr_al-Din_II', '/wiki/Wikipedia:Today%27s_featured_article/March_2022', 'https://lists.wikimedia.org/postorius/lists/daily-article-l.lists.wikimedia.org/', '/wiki/Wikipedia:Featured_articles', '/wiki/File:Gertrude_Hart.jpg', '/wiki/Gertrude_Hart', '/wiki/Torture_in_popular_culture', '/wiki/University_of_Victoria', '/wiki/Ronald_Lou-Poy', '/wiki/Iqaluit', '/wiki/Great_Hall_of_the_People', '/wiki/Lekin...', '/wiki/Dimple_Kapadia', '/wiki/Gulzar', '/wiki/Nahe_wollt_der_Herr_uns_sein', '/wiki/Huub_Oosterhuis', '/wiki/Gotteslob_(1975)', '/wiki/Harvard_Business_School', '/wiki/Lauren_Cohen', '/wiki/Powerlifting', '/wiki/Nesticus_cellulanus', '/wiki/West_Pier_Public_Convenience', '/wiki/Wikipedia:Recent_additions', '/wiki/Help:Your_first_article', '/wiki/Template_talk:Did_you_know', '/wiki/File:Jane_Campion_DNZM_(cropped).jpg', '/wiki/The_Power_of_the_Dog_(film)', '/wiki/BAFTA_Award_for_Best_Film', '/wiki/BAFTA_Award_for_Best_Direction', '/wiki/Jane_Campion', '/wiki/75th_British_Academy_Film_Awards', '/wiki/Endurance_(1912_ship)', '/wiki/Ernest_Shackleton', '/wiki/Imperial_Trans-Antarctic_Expedition', '/wiki/Yoon_Suk-yeol', '/wiki/2022_South_Korean_presidential_election', '/wiki/President_of_South_Korea', '/wiki/Shane_Warne', '/wiki/2022_Peshawar_mosque_attack', '/wiki/Peshawar', '/wiki/Portal:Current_events', '/wiki/COVID-19_pandemic', '/wiki/2022_Russian_invasion_of_Ukraine', '/wiki/Deaths_in_2022', '/wiki/Nadungamuwa_Raja', '/wiki/Mary_Coombs', '/wiki/William_Hurt', '/wiki/Donald_Pinkel', '/wiki/Margaret_Farrow', '/wiki/Brent_Renaud', '/wiki/Wikipedia:In_the_news/Candidates', '/wiki/March_15', '/wiki/Ides_of_March', '/wiki/File:Michael_iii.jpg', '/wiki/856', '/wiki/Michael_III', '/wiki/Theodora_(empress)', '/wiki/1147', '/wiki/Reconquista', '/wiki/Afonso_I_of_Portugal', '/wiki/Conquest_of_Santar%C3%A9m', '/wiki/Santar%C3%A9m,_Portugal', '/wiki/Almoravid_dynasty', '/wiki/1875', '/wiki/John_McCloskey', '/wiki/Roman_Catholic_Archdiocese_of_New_York', '/wiki/Cardinal_(Catholic_Church)', '/wiki/1972', '/wiki/The_Godfather', '/wiki/Gangster_film', '/wiki/Francis_Ford_Coppola', '/wiki/The_Godfather_(novel)', '/wiki/Mario_Puzo', '/wiki/1990', '/wiki/Farzad_Bazoft', '/wiki/Daniele_Comboni', '/wiki/Grace_Chisholm_Young', '/wiki/Arthur_Compton', '/wiki/March_14', '/wiki/March_15', '/wiki/March_16', '/wiki/Wikipedia:Selected_anniversaries/March', 'https://lists.wikimedia.org/postorius/lists/daily-article-l.lists.wikimedia.org/', '/wiki/List_of_days_of_the_year', '/wiki/File:Gateway_Generating_Station_rectified.jpg', '/wiki/Gateway_Generating_Station', '/wiki/Combined_cycle_power_plant', '/wiki/Gas-fired_power_plant', '/wiki/Contra_Costa_County,_California', '/wiki/San_Joaquin_River', '/wiki/Antioch,_California', '/wiki/Pacific_Gas_and_Electric_Company', '/wiki/Gas_turbine', '/wiki/Heat_recovery_steam_generator', '/wiki/Steam_turbine', '/wiki/Transformer#Step-down_and_step-up_transformers', '/wiki/Watt', '/wiki/User:JPxG', '/wiki/Template:POTD/2022-03-14', '/wiki/Template:POTD/2022-03-13', '/wiki/Template:POTD/2022-03-12', '/wiki/Wikipedia:Picture_of_the_day/Archive', '/wiki/Wikipedia:Featured_pictures', '/wiki/Wikipedia:Community_portal', '/wiki/Wikipedia:Village_pump', '/wiki/Wikipedia:News', '/wiki/Wikipedia:Teahouse', '/wiki/Wikipedia:Help_desk', '/wiki/Wikipedia:Reference_desk', '/wiki/Wikimedia_Foundation', 'https://wikimediafoundation.org/our-work/wikimedia-projects/', 'https://commons.wikimedia.org/wiki/', 'https://commons.wikimedia.org/wiki/', 'https://www.mediawiki.org/wiki/', 'https://www.mediawiki.org/wiki/', 'https://meta.wikimedia.org/wiki/', 'https://meta.wikimedia.org/wiki/', 'https://en.wikibooks.org/wiki/', 'https://en.wikibooks.org/wiki/', 'https://www.wikidata.org/wiki/', 'https://www.wikidata.org/wiki/', 'https://en.wikinews.org/wiki/', 'https://en.wikinews.org/wiki/', 'https://en.wikiquote.org/wiki/', 'https://en.wikiquote.org/wiki/', 'https://en.wikisource.org/wiki/', 'https://en.wikisource.org/wiki/', 'https://species.wikimedia.org/wiki/', 'https://species.wikimedia.org/wiki/', 'https://en.wikiversity.org/wiki/', 'https://en.wikiversity.org/wiki/', 'https://en.wikivoyage.org/wiki/', 'https://en.wikivoyage.org/wiki/', 'https://en.wiktionary.org/wiki/', 'https://en.wiktionary.org/wiki/', '/wiki/English_language', 'https://meta.wikimedia.org/wiki/List_of_Wikipedias', 'https://ar.wikipedia.org/wiki/', 'https://de.wikipedia.org/wiki/', 'https://es.wikipedia.org/wiki/', 'https://fr.wikipedia.org/wiki/', 'https://it.wikipedia.org/wiki/', 'https://nl.wikipedia.org/wiki/', 'https://ja.wikipedia.org/wiki/', 'https://pl.wikipedia.org/wiki/', 'https://pt.wikipedia.org/wiki/', 'https://ru.wikipedia.org/wiki/', 'https://sv.wikipedia.org/wiki/', 'https://uk.wikipedia.org/wiki/', 'https://vi.wikipedia.org/wiki/', 'https://zh.wikipedia.org/wiki/', 'https://id.wikipedia.org/wiki/', 'https://ms.wikipedia.org/wiki/', 'https://zh-min-nan.wikipedia.org/wiki/', 'https://bg.wikipedia.org/wiki/', 'https://ca.wikipedia.org/wiki/', 'https://cs.wikipedia.org/wiki/', 'https://da.wikipedia.org/wiki/', 'https://eo.wikipedia.org/wiki/', 'https://eu.wikipedia.org/wiki/', 'https://fa.wikipedia.org/wiki/', 'https://he.wikipedia.org/wiki/', 'https://ko.wikipedia.org/wiki/', 'https://hu.wikipedia.org/wiki/', 'https://no.wikipedia.org/wiki/', 'https://ro.wikipedia.org/wiki/', 'https://sr.wikipedia.org/wiki/', 'https://sh.wikipedia.org/wiki/', 'https://fi.wikipedia.org/wiki/', 'https://tr.wikipedia.org/wiki/', 'https://ast.wikipedia.org/wiki/', 'https://bn.wikipedia.org/wiki/', 'https://bs.wikipedia.org/wiki/', 'https://et.wikipedia.org/wiki/', 'https://el.wikipedia.org/wiki/', 'https://simple.wikipedia.org/wiki/', 'https://gl.wikipedia.org/wiki/', 'https://hr.wikipedia.org/wiki/', 'https://lv.wikipedia.org/wiki/', 'https://lt.wikipedia.org/wiki/', 'https://ml.wikipedia.org/wiki/', 'https://mk.wikipedia.org/wiki/', 'https://nn.wikipedia.org/wiki/', 'https://sq.wikipedia.org/wiki/', 'https://sk.wikipedia.org/wiki/', 'https://sl.wikipedia.org/wiki/', 'https://th.wikipedia.org/wiki/', 'https://en.wikipedia.org/w/index.php?title=Main_Page&oldid=1069328725', '/wiki/Special:MyTalk', '/wiki/Special:MyContributions', '/w/index.php?title=Special:CreateAccount&returnto=Main+Page', '/w/index.php?title=Special:UserLogin&returnto=Main+Page', '/wiki/Main_Page', '/wiki/Talk:Main_Page', '/wiki/Main_Page', '/w/index.php?title=Main_Page&action=edit', '/w/index.php?title=Main_Page&action=history', '/wiki/Main_Page', '/wiki/Main_Page', '/wiki/Wikipedia:Contents', '/wiki/Portal:Current_events', '/wiki/Special:Random', '/wiki/Wikipedia:About', '//en.wikipedia.org/wiki/Wikipedia:Contact_us', 'https://donate.wikimedia.org/wiki/Special:FundraiserRedirector?utm_source=donate&utm_medium=sidebar&utm_campaign=C13_en.wikipedia.org&uselang=en', '/wiki/Help:Contents', '/wiki/Help:Introduction', '/wiki/Wikipedia:Community_portal', '/wiki/Special:RecentChanges', '/wiki/Wikipedia:File_Upload_Wizard', '/wiki/Special:WhatLinksHere/Main_Page', '/wiki/Special:RecentChangesLinked/Main_Page', '/wiki/Wikipedia:File_Upload_Wizard', '/wiki/Special:SpecialPages', '/w/index.php?title=Main_Page&oldid=1069328725', '/w/index.php?title=Main_Page&action=info', '/w/index.php?title=Special:CiteThisPage&page=Main_Page&id=1069328725&wpFormIdentifier=titleform', 'https://www.wikidata.org/wiki/Special:EntityPage/Q5296', '/w/index.php?title=Special:DownloadAsPdf&page=Main_Page&action=show-download-screen', '/w/index.php?title=Main_Page&printable=yes', 'https://commons.wikimedia.org/wiki/Main_Page', 'https://www.mediawiki.org/wiki/MediaWiki', 'https://meta.wikimedia.org/wiki/Main_Page', 'https://wikisource.org/wiki/Main_Page', 'https://species.wikimedia.org/wiki/Main_Page', 'https://en.wikibooks.org/wiki/Main_Page', 'https://www.wikidata.org/wiki/Wikidata:Main_Page', 'https://wikimania.wikimedia.org/wiki/Wikimania', 'https://en.wikinews.org/wiki/Main_Page', 'https://en.wikiquote.org/wiki/Main_Page', 'https://en.wikisource.org/wiki/Main_Page', 'https://en.wikiversity.org/wiki/Wikiversity:Main_Page', 'https://en.wikivoyage.org/wiki/Main_Page', 'https://en.wiktionary.org/wiki/Wiktionary:Main_Page', 'https://ar.wikipedia.org/wiki/', 'https://bn.wikipedia.org/wiki/', 'https://bg.wikipedia.org/wiki/', 'https://bs.wikipedia.org/wiki/', 'https://ca.wikipedia.org/wiki/', 'https://cs.wikipedia.org/wiki/', 'https://da.wikipedia.org/wiki/', 'https://de.wikipedia.org/wiki/', 'https://et.wikipedia.org/wiki/', 'https://el.wikipedia.org/wiki/', 'https://es.wikipedia.org/wiki/', 'https://eo.wikipedia.org/wiki/', 'https://eu.wikipedia.org/wiki/', 'https://fa.wikipedia.org/wiki/', 'https://fr.wikipedia.org/wiki/', 'https://gl.wikipedia.org/wiki/', 'https://ko.wikipedia.org/wiki/', 'https://hr.wikipedia.org/wiki/', 'https://id.wikipedia.org/wiki/', 'https://it.wikipedia.org/wiki/', 'https://he.wikipedia.org/wiki/', 'https://ka.wikipedia.org/wiki/', 'https://lv.wikipedia.org/wiki/', 'https://lt.wikipedia.org/wiki/', 'https://hu.wikipedia.org/wiki/', 'https://mk.wikipedia.org/wiki/', 'https://ms.wikipedia.org/wiki/', 'https://nl.wikipedia.org/wiki/', 'https://ja.wikipedia.org/wiki/', 'https://no.wikipedia.org/wiki/', 'https://nn.wikipedia.org/wiki/', 'https://pl.wikipedia.org/wiki/', 'https://pt.wikipedia.org/wiki/', 'https://ro.wikipedia.org/wiki/', 'https://ru.wikipedia.org/wiki/', 'https://simple.wikipedia.org/wiki/', 'https://sk.wikipedia.org/wiki/', 'https://sl.wikipedia.org/wiki/', 'https://sr.wikipedia.org/wiki/', 'https://sh.wikipedia.org/wiki/', 'https://fi.wikipedia.org/wiki/', 'https://sv.wikipedia.org/wiki/', 'https://th.wikipedia.org/wiki/', 'https://tr.wikipedia.org/wiki/', 'https://uk.wikipedia.org/wiki/', 'https://vi.wikipedia.org/wiki/', 'https://zh.wikipedia.org/wiki/', '//en.wikipedia.org/wiki/Wikipedia:Text_of_Creative_Commons_Attribution-ShareAlike_3.0_Unported_License', '//creativecommons.org/licenses/by-sa/3.0/', '//foundation.wikimedia.org/wiki/Terms_of_Use', '//foundation.wikimedia.org/wiki/Privacy_policy', '//www.wikimediafoundation.org/', 'https://foundation.wikimedia.org/wiki/Privacy_policy', '/wiki/Wikipedia:About', '/wiki/Wikipedia:General_disclaimer', '//en.wikipedia.org/wiki/Wikipedia:Contact_us', '//en.m.wikipedia.org/w/index.php?title=Main_Page&mobileaction=toggle_view_mobile', 'https://www.mediawiki.org/wiki/Special:MyLanguage/How_to_contribute', 'https://stats.wikimedia.org/#/en.wikipedia.org', 'https://foundation.wikimedia.org/wiki/Cookie_statement', '#', 'https://wikimediafoundation.org/', 'https://www.mediawiki.org/', 'https://en.wikipedia.org/wiki/Main_Page?action=edit']\n"
     ]
    }
   ],
   "source": [
    "import requests\n",
    "from lxml import html\n",
    "from bs4 import BeautifulSoup\n",
    "from selenium import webdriver\n",
    "from selenium.webdriver.chrome.options import Options\n",
    "import time\n",
    "import queue\n",
    "\n",
    "frontier = queue.Queue()\n",
    "WEB_DRIVER_LOCATION = \"C:/Users/Pirk/Desktop/faks-mag/ekstrakcija/chromedriver.exe\"\n",
    "TIMEOUT = 5\n",
    "url =  \"https://en.wikipedia.org/wiki/Main_Page\"\n",
    "\n",
    "def is_link(link):\n",
    "    #logika - preveri če je stvar valid link ki ga damo v frontier\n",
    "    \n",
    "def make_absolute(baselink,link)\n",
    "    #logika - prepozna če je link relativen inga spremeni v absolutnega\n",
    "\n",
    "def crawl_site(url):\n",
    "\n",
    "    WEB_PAGE_ADDRESS = url\n",
    "\n",
    "    chrome_options = Options()\n",
    "    chrome_options.add_argument(\"user-agent=fri-ieps-TEST\")\n",
    "    time.sleep(TIMEOUT)\n",
    "\n",
    "    driver = webdriver.Chrome(WEB_DRIVER_LOCATION, options=chrome_options)\n",
    "    driver.get(WEB_PAGE_ADDRESS)\n",
    "    time.sleep(TIMEOUT)\n",
    "\n",
    "    html = driver.page_source\n",
    "\n",
    "    bsObj = BeautifulSoup(html, 'html.parser')\n",
    "    links = bsObj.find_all('a', href=True)\n",
    "    #finalLinks = set()\n",
    "    for link in links:\n",
    "        #finalLinks.add(link.attrs['href'])\n",
    "        #klic metode, ki filtrira linke\n",
    "        #klic metode, ki dopolni relativne linke v absolutne\n",
    "        frontier.put(link.attrs['href'])\n",
    "\n",
    "\n",
    "    "
   ]
  },
  {
   "cell_type": "code",
   "execution_count": 31,
   "id": "3846fad3",
   "metadata": {},
   "outputs": [
    {
     "name": "stdout",
     "output_type": "stream",
     "text": [
      "{'https://e-uprava.gov.si/', 'http://www.izvoznookno.si', 'https://europa.eu/youreurope/index.htm#sl', 'http://www.gov.si', 'https://spot.gov.si/sl/kazalo/', 'http://www.gov.si/', 'https://evem.gov.si/evem/cert/uporabnik/prijava.evem', 'https://www.stopbirokraciji.gov.si/', 'https://spot.gov.si/sl/pomoc-in-podpora/tehnicna-podpora/', 'https://spot.gov.si/sl/e-postopki-in-storitve/pogoji-za-uporabo-e-postopkov-in-prijava-v-portal-spot/', 'https://spot.gov.si/sl/pomoc-in-podpora/', 'https://spot.gov.si/sl/', 'https://spot.gov.si/sl/portal-in-tocke-spot/', 'mailto:ekc@gov.si', 'https://spot.gov.si/sl/poslovanje/', 'https://www.spiritslovenia.si/', 'https://spot.gov.si/sl/e-postopki-in-storitve/pogoji-za-uporabo-e-postopkov-in-prijava-v-portal-spot/digitalna-potrdila/', 'https://spot.gov.si/sl/teme/pogoji-uporabe/', 'https://spot.gov.si/sl/dejavnosti-in-poklici/', 'https://spot.gov.si/sl/e-postopki-in-storitve/pooblascanje-oseb-za-opravljanje-postopkov-prek-portala-spot/', 'http://eugo.gov.si', 'http://www.eugo.gov.si', 'https://spot.gov.si/sl/portal-in-tocke-spot/tocke-spot-in-notarji/seznam-tock-spot-svetovanje/', 'http://www.podjetniski-portal.si', 'https://spot.gov.si/sl/e-postopki-in-storitve/pogoji-za-uporabo-e-postopkov-in-prijava-v-portal-spot/prijava-v-portal-spot/', 'https://evem.gov.si/evem/sicas/uporabnik/prijava.evem', 'https://spot.gov.si/sl/pomoc-in-podpora/vsebinska-podpora/', '#', 'http://www.podjetniskisklad.si', 'tel:0802002', 'https://www.youtube.com/watch?v=jdoIGSGRSRI', 'https://spot.gov.si/sl/e-postopki-in-storitve/', 'https://spot.gov.si/sl/e-postopki-in-storitve/tiskani-obrazci/', 'cms/news/detailEugo.evem?srcsi_cms_news_id=8822', 'https://spot.gov.si/sl/politika-zasebnosti/', 'http://www.eu-skladi.si/'}\n"
     ]
    }
   ],
   "source": []
  },
  {
   "cell_type": "code",
   "execution_count": null,
   "id": "17e64c31",
   "metadata": {},
   "outputs": [],
   "source": []
  }
 ],
 "metadata": {
  "kernelspec": {
   "display_name": "Python 3 (ipykernel)",
   "language": "python",
   "name": "python3"
  },
  "language_info": {
   "codemirror_mode": {
    "name": "ipython",
    "version": 3
   },
   "file_extension": ".py",
   "mimetype": "text/x-python",
   "name": "python",
   "nbconvert_exporter": "python",
   "pygments_lexer": "ipython3",
   "version": "3.8.8"
  }
 },
 "nbformat": 4,
 "nbformat_minor": 5
}
